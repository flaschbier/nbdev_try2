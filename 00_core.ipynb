{
 "cells": [
  {
   "cell_type": "code",
   "execution_count": null,
   "metadata": {},
   "outputs": [],
   "source": [
    "# default_exp core"
   ]
  },
  {
   "cell_type": "markdown",
   "metadata": {},
   "source": [
    "# nbdev_try2\n",
    "\n",
    "> Give it another try."
   ]
  },
  {
   "cell_type": "code",
   "execution_count": null,
   "metadata": {},
   "outputs": [],
   "source": [
    "#hide\n",
    "from nbdev.showdoc import *"
   ]
  },
  {
   "cell_type": "code",
   "execution_count": null,
   "metadata": {},
   "outputs": [],
   "source": [
    "#export\n",
    "def say_hello(to):\n",
    "    \"Say hello to somebody\"\n",
    "    return f'Hello {to}!'"
   ]
  },
  {
   "cell_type": "code",
   "execution_count": null,
   "metadata": {},
   "outputs": [
    {
     "data": {
      "text/plain": [
       "'Hello Sara!'"
      ]
     },
     "execution_count": null,
     "metadata": {},
     "output_type": "execute_result"
    }
   ],
   "source": [
    "say_hello(\"Sara\")"
   ]
  },
  {
   "cell_type": "markdown",
   "metadata": {},
   "source": [
    "Let's try how to use a database in a way that it will not break CI tests on GitHub..."
   ]
  },
  {
   "cell_type": "code",
   "execution_count": null,
   "metadata": {},
   "outputs": [],
   "source": [
    "import sqlite3\n",
    "import os"
   ]
  },
  {
   "cell_type": "code",
   "execution_count": null,
   "metadata": {},
   "outputs": [
    {
     "name": "stdout",
     "output_type": "stream",
     "text": [
      "removing example.sqlite\n",
      "[('Seventeen',)]\n"
     ]
    }
   ],
   "source": [
    "DBNAME = \"example.sqlite\"\n",
    "if os.path.exists(DBNAME):\n",
    "    print(\"removing\", DBNAME)\n",
    "    os.remove(DBNAME)\n",
    "    \n",
    "conn = sqlite3.connect(DBNAME)\n",
    "cur = conn.cursor()\n",
    "cur.execute(\"\"\"\n",
    "    create table if not exists numbers (\n",
    "        number integer primary key,\n",
    "        name\n",
    "    )\n",
    "\"\"\")\n",
    "cur.execute(\"\"\"\n",
    "    insert into numbers (number, name) \n",
    "        values (1, \"One\"),\n",
    "            (2, \"Two\"),\n",
    "            (3, \"Three\"),\n",
    "            (17, \"Seventeen\")\n",
    "\"\"\")\n",
    "resu = cur.execute(\"\"\"\n",
    "    select name from numbers where number = ?\n",
    "\"\"\", (17, )).fetchall()\n",
    "\n",
    "assert len(resu) == 1, len(resu)\n",
    "assert resu[0][0] == \"Seventeen\"\n",
    "\n",
    "print(resu)"
   ]
  },
  {
   "cell_type": "markdown",
   "metadata": {},
   "source": [
    "This is working. Also repetitive, because it removes tha database before. So let's try to push it..."
   ]
  },
  {
   "cell_type": "code",
   "execution_count": null,
   "metadata": {},
   "outputs": [],
   "source": []
  }
 ],
 "metadata": {
  "kernelspec": {
   "display_name": "Python 3",
   "language": "python",
   "name": "python3"
  }
 },
 "nbformat": 4,
 "nbformat_minor": 2
}
