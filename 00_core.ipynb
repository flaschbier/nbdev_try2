{
 "cells": [
  {
   "cell_type": "code",
   "execution_count": null,
   "metadata": {},
   "outputs": [],
   "source": [
    "# default_exp core"
   ]
  },
  {
   "cell_type": "markdown",
   "metadata": {},
   "source": [
    "# nbdev_try2.core\n",
    "\n",
    "> Give it another try."
   ]
  },
  {
   "cell_type": "code",
   "execution_count": null,
   "metadata": {},
   "outputs": [],
   "source": [
    "#hide\n",
    "from nbdev.showdoc import *"
   ]
  },
  {
   "cell_type": "code",
   "execution_count": null,
   "metadata": {},
   "outputs": [],
   "source": [
    "#export\n",
    "def say_hello(to):\n",
    "    \"Say hello to somebody\"\n",
    "    return f'Hello {to}!'"
   ]
  },
  {
   "cell_type": "code",
   "execution_count": null,
   "metadata": {},
   "outputs": [
    {
     "data": {
      "text/plain": [
       "'Hello Sara!'"
      ]
     },
     "execution_count": null,
     "metadata": {},
     "output_type": "execute_result"
    }
   ],
   "source": [
    "say_hello(\"Sara\")"
   ]
  },
  {
   "cell_type": "markdown",
   "metadata": {},
   "source": [
    "## A Little Database"
   ]
  },
  {
   "cell_type": "markdown",
   "metadata": {},
   "source": [
    "Let's try how to use a database in a way that it will not break CI tests on GitHub..."
   ]
  },
  {
   "cell_type": "code",
   "execution_count": null,
   "metadata": {},
   "outputs": [],
   "source": [
    "import sqlite3\n",
    "import os"
   ]
  },
  {
   "cell_type": "code",
   "execution_count": null,
   "metadata": {},
   "outputs": [
    {
     "name": "stdout",
     "output_type": "stream",
     "text": [
      "removing example.sqlite\n",
      "[('Seventeen',)]\n"
     ]
    }
   ],
   "source": [
    "DBNAME = \"example.sqlite\"\n",
    "if os.path.exists(DBNAME):\n",
    "    print(\"removing\", DBNAME)\n",
    "    os.remove(DBNAME)\n",
    "    \n",
    "conn = sqlite3.connect(DBNAME)\n",
    "cur = conn.cursor()\n",
    "cur.execute(\"\"\"\n",
    "    create table if not exists numbers (\n",
    "        number integer primary key,\n",
    "        name\n",
    "    )\n",
    "\"\"\")\n",
    "cur.execute(\"\"\"\n",
    "    insert into numbers (number, name) \n",
    "        values (1, \"One\"),\n",
    "            (2, \"Two\"),\n",
    "            (3, \"Three\"),\n",
    "            (17, \"Seventeen\")\n",
    "\"\"\")\n",
    "resu = cur.execute(\"\"\"\n",
    "    select name from numbers where number = ?\n",
    "\"\"\", (17, )).fetchall()\n",
    "\n",
    "assert len(resu) == 1, len(resu)\n",
    "assert resu[0][0] == \"Seventeen\"\n",
    "\n",
    "print(resu)"
   ]
  },
  {
   "cell_type": "markdown",
   "metadata": {},
   "source": [
    "This is working. Also repetitive, because it removes tha database before. So let's try to push it..."
   ]
  },
  {
   "cell_type": "markdown",
   "metadata": {},
   "source": [
    "Tests succeeded in GitHub, but we have no clue whether it was executed :(\n",
    "\n",
    "So let's try with something failing..."
   ]
  },
  {
   "cell_type": "code",
   "execution_count": null,
   "metadata": {},
   "outputs": [],
   "source": [
    "# assert 1 == 0, \"deliberately failing\""
   ]
  },
  {
   "cell_type": "markdown",
   "metadata": {},
   "source": [
    "This actually passes `nbdev_test_nbs` successfully.\n",
    "\n",
    "Docs say:\n",
    "\n",
    "> Everything that is not an exported cell is considered a test\n",
    "\n",
    "So, again, something plain wrong :("
   ]
  },
  {
   "cell_type": "markdown",
   "metadata": {},
   "source": [
    "Cool, [in GitHub it fails](https://github.com/flaschbier/nbdev_try2/runs/543541993) properly. But this is even worse, when \"tests\" run locally but fail in CI."
   ]
  },
  {
   "cell_type": "markdown",
   "metadata": {},
   "source": [
    "Now it also fails locally. What kind of ordering mess due to the context change Jupyter vs. shell is now going on? On the other hand we see that at least a small file is possible in GitHub CI."
   ]
  },
  {
   "cell_type": "markdown",
   "metadata": {},
   "source": [
    "Bah, it \"sometimes\" requires saving. But this will create a checkpoint also, which is not wanted. Here the design flaws fully strike back."
   ]
  },
  {
   "cell_type": "markdown",
   "metadata": {},
   "source": [
    "Findings:\n",
    "- GitHub CI allows for (at least small) file system consumption\n",
    "- all cells not markes are treated as tests\n",
    "- saving required to make the shell tools aware of souce code changes"
   ]
  },
  {
   "cell_type": "markdown",
   "metadata": {},
   "source": [
    "## Now For Requests"
   ]
  },
  {
   "cell_type": "markdown",
   "metadata": {},
   "source": [
    "FTP will be added soon, no worries..."
   ]
  },
  {
   "cell_type": "code",
   "execution_count": null,
   "metadata": {},
   "outputs": [
    {
     "name": "stdout",
     "output_type": "stream",
     "text": [
      "{'args': {}, 'headers': {'Accept': 'application/json', 'Accept-Encoding': 'gzip, deflate', 'Host': 'httpbin.org', 'User-Agent': 'python-requests/2.21.0', 'X-Amzn-Trace-Id': 'Root=1-5e80db62-683330dce17be93ca5dc2f70'}, 'origin': '46.5.69.8', 'url': 'https://httpbin.org/get'}\n"
     ]
    }
   ],
   "source": [
    "import requests\n",
    "r = requests.get(\"https://httpbin.org/get\", headers={\"accept\": \"application/json\"})\n",
    "assert r.status_code == 200, r.status_code\n",
    "\n",
    "print(r.json())\n",
    "assert r.json()[\"url\"] == 'https://httpbin.org/get'"
   ]
  },
  {
   "cell_type": "code",
   "execution_count": null,
   "metadata": {},
   "outputs": [],
   "source": []
  }
 ],
 "metadata": {
  "kernelspec": {
   "display_name": "Python 3",
   "language": "python",
   "name": "python3"
  }
 },
 "nbformat": 4,
 "nbformat_minor": 2
}
